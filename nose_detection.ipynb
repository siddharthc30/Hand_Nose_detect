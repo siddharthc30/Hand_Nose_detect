{
 "cells": [
  {
   "cell_type": "code",
   "execution_count": 1,
   "metadata": {},
   "outputs": [],
   "source": [
    "import cv2\n",
    "import numpy as np\n",
    "from imutils import face_utils\n",
    "import imutils\n",
    "import dlib"
   ]
  },
  {
   "cell_type": "code",
   "execution_count": 3,
   "metadata": {},
   "outputs": [],
   "source": [
    "image = cv2.imread('/home/siddharth/Pictures/Webcam/face.jpg')\n",
    "image = imutils.resize(image, width=500)\n",
    "gray = cv2.cvtColor(image, cv2.COLOR_BGR2GRAY)\n",
    "\n",
    "overlay=image.copy()\n",
    "output=image.copy()\n",
    "p=\"shape_predictor_68_face_landmarks.dat\"\n",
    "\n",
    "detector = dlib.get_frontal_face_detector()\n",
    "predictor = dlib.shape_predictor(p)\n",
    "\n",
    "rects = detector(gray, 1)\n",
    "points=[]\n",
    " \n",
    "for d in rects:\n",
    "    cv2.rectangle(image, (d.left(), d.top()), (d.right(), d.bottom()), 255, 1)\n",
    "    shape = predictor(image, d)\n",
    "    shape = face_utils.shape_to_np(shape)\n",
    "    #points =shape[27:36]\n",
    "    (x, y, w, h) = cv2.boundingRect(np.array([shape[27:36]]))\n",
    "    roi = image[y:y + h, x:x + w]\n",
    "    \n",
    "    #hull = cv2.convexHull(points)\n",
    "    #image = cv2.drawContours(image, [hull], -1,(0, 255, 0) , -1)\n",
    "    #cv2.circle(image, (p.x, p.y), 2, 255, 1)\n",
    "    #cv2.putText(image, str(i), (p.x + 4, p.y), cv2.FONT_HERSHEY_SIMPLEX, 0.25, (255, 255, 255))\n",
    "    \n",
    "cv2.imshow(\"ROI\", roi)\n",
    "cv2.imshow(\"window\", image)\n",
    "cv2.waitKey(0)\n",
    "cv2.destroyAllWindows()\n",
    "\n",
    "    \n",
    "#shape = predictor(gray, rects)\n",
    "#shape = face_utils.shape_to_np(shape)\n",
    "    \n",
    "\n",
    "#nose=(27,35)\n",
    "\n",
    "#required_pts=shape[27:35]\n",
    "\n",
    "#hull = cv2.convexHull(required_pts)\n",
    "#cv2.drawContours(overlay, [hull], -1,(0, 255, 0) , -1)\n",
    "#cv2.addWeighted(overlay, alpha, output, 1 - alpha, 0, output)\n",
    "\n"
   ]
  },
  {
   "cell_type": "code",
   "execution_count": null,
   "metadata": {},
   "outputs": [],
   "source": []
  },
  {
   "cell_type": "code",
   "execution_count": null,
   "metadata": {},
   "outputs": [],
   "source": []
  }
 ],
 "metadata": {
  "kernelspec": {
   "display_name": "Python 3",
   "language": "python",
   "name": "python3"
  },
  "language_info": {
   "codemirror_mode": {
    "name": "ipython",
    "version": 3
   },
   "file_extension": ".py",
   "mimetype": "text/x-python",
   "name": "python",
   "nbconvert_exporter": "python",
   "pygments_lexer": "ipython3",
   "version": "3.7.6"
  }
 },
 "nbformat": 4,
 "nbformat_minor": 4
}
